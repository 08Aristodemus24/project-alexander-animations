{
 "cells": [
  {
   "cell_type": "code",
   "execution_count": 15,
   "metadata": {},
   "outputs": [],
   "source": [
    "from manim import *\n",
    "import networkx as nx\n",
    "from networkx.generators import gnp_random_graph\n",
    "import numpy as np\n",
    "\n",
    "config.media_width = \"75%\"\n",
    "config.verbosity = \"WARNING\""
   ]
  },
  {
   "cell_type": "code",
   "execution_count": 25,
   "metadata": {},
   "outputs": [
    {
     "name": "stderr",
     "output_type": "stream",
     "text": [
      "                                                                                                                                                                                                                                                                                                                                                                                                                                                                                                                                                                                                                                                                                                                                                                                                                                                                                                                                                                                                                                                                                                  \r"
     ]
    },
    {
     "data": {
      "text/html": [
       "<video src=\"media\\jupyter\\MLAndDL4@2023-09-28@17-38-28.mp4\" controls autoplay loop style=\"max-width: 75%;\"  >\n",
       "      Your browser does not support the <code>video</code> element.\n",
       "    </video>"
      ],
      "text/plain": [
       "<IPython.core.display.Video object>"
      ]
     },
     "metadata": {},
     "output_type": "display_data"
    }
   ],
   "source": [
    "%%manim -qm MLAndDL4\n",
    "\n",
    "class MLAndDL4(ThreeDScene):\n",
    "    def construct(self):\n",
    "        layers_dims = [5, 4, 4, 3, 2, 3, 4, 4, 5]  # the number of neurons in each layer\n",
    "\n",
    "        # Theta * X + Beta\n",
    "        linear_func = MathTex(r\"h_\\Theta(X) = \\sigma(\\Theta X + \\mathrm{B})\")\n",
    "        whole_op = MathTex(r\"\"\"\n",
    "            h_\\Theta(X) = \n",
    "            \\sigma(\\begin{bmatrix}\n",
    "            \\Theta^{(0)}_{1, 1} & \\Theta^{(0)}_{1, 2} & \\Theta^{(0)}_{1, 3}\\\\\n",
    "            \\Theta^{(0)}_{2, 1} & \\Theta^{(0)}_{2, 2} & \\Theta^{(0)}_{2, 3}\\\\\n",
    "            \\Theta^{(0)}_{3, 1} & \\Theta^{(0)}_{3, 2} & \\Theta^{(0)}_{3, 3}\\\\\n",
    "            \\Theta^{(0)}_{4, 1} & \\Theta^{(0)}_{4, 2} & \\Theta^{(0)}_{4, 3}\\\\\n",
    "            \\end{bmatrix}\n",
    "            \\cdot\n",
    "            \\begin{bmatrix}\n",
    "            X^{(0)}_1 & X^{(1)}_1 & \\cdots & X^{(m - 1)}_1 \\\\\n",
    "            X^{(0)}_2 & X^{(1)}_2 & \\cdots & X^{(m - 1)}_2 \\\\\n",
    "            X^{(0)}_3 & X^{(1)}_3 & \\cdots & X^{(m - 1)}_3 \\\\\n",
    "            \\end{bmatrix}\n",
    "            +\n",
    "            \\begin{bmatrix}\n",
    "            \\mathrm{B}^{(0)}_{1, 0} \\\\\n",
    "            \\mathrm{B}^{(0)}_{2, 0} \\\\\n",
    "            \\mathrm{B}^{(0)}_{3, 0} \\\\\n",
    "            \\mathrm{B}^{(0)}_{4, 0} \\\\\n",
    "            \\end{bmatrix})\n",
    "        \"\"\")\n",
    "\n",
    "        edges = []\n",
    "        partitions = []\n",
    "        c = 0\n",
    "        layers = [5, 4, 4, 3, 2, 3, 4, 4, 5]  # the number of neurons in each layer\n",
    "\n",
    "        for n_nodes in layers:\n",
    "            partitions.append(list(range(c + 1, c + n_nodes + 1)))\n",
    "            c += n_nodes\n",
    "\n",
    "        # create the edges of neural network\n",
    "        for i, v in enumerate(layers[1:]):\n",
    "                last = sum(layers[:i+1])\n",
    "                for j in range(v):\n",
    "                    for k in range(last - layers[i], last):\n",
    "                        edges.append((k + 1, j + last + 1))\n",
    "\n",
    "        # create the nodes of the neural network\n",
    "        vertices = np.arange(1, sum(layers) + 1)\n",
    "\n",
    "        # note graph nodes start from 1 in this case\n",
    "        graph = Graph(\n",
    "            vertices,\n",
    "            edges,\n",
    "            layout='partite',\n",
    "            partitions=partitions,\n",
    "            layout_scale=5,\n",
    "            vertex_config={\n",
    "                'radius': 0.2\n",
    "            },\n",
    "            edge_config={\n",
    "                'buff': 1\n",
    "            }\n",
    "        )\n",
    "\n",
    "        # modify each nodes fill\n",
    "        for node in graph.vertices:\n",
    "            graph[node].set_fill(WHITE, opacity=0.0)\n",
    "            graph[node].set_stroke('#1d58e0', opacity=1, width=5)\n",
    "\n",
    "        dot = Dot()\n",
    "\n",
    "        \n",
    "        self.play(Write(linear_func))\n",
    "        self.wait(1)\n",
    "        self.play(ReplacementTransform(linear_func, whole_op))\n",
    "        self.wait(1)\n",
    "        self.play(ReplacementTransform(whole_op, dot))\n",
    "        self.wait(1)\n",
    "        self.play(ReplacementTransform(dot, graph))\n",
    "        self.wait(3)"
   ]
  },
  {
   "cell_type": "code",
   "execution_count": null,
   "metadata": {},
   "outputs": [],
   "source": []
  }
 ],
 "metadata": {
  "kernelspec": {
   "display_name": "project-alexander-animations",
   "language": "python",
   "name": "python3"
  },
  "language_info": {
   "codemirror_mode": {
    "name": "ipython",
    "version": 3
   },
   "file_extension": ".py",
   "mimetype": "text/x-python",
   "name": "python",
   "nbconvert_exporter": "python",
   "pygments_lexer": "ipython3",
   "version": "3.11.5"
  },
  "orig_nbformat": 4
 },
 "nbformat": 4,
 "nbformat_minor": 2
}
